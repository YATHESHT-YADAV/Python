{
 "cells": [
  {
   "cell_type": "code",
   "execution_count": 2,
   "metadata": {},
   "outputs": [],
   "source": [
    "import random\n"
   ]
  },
  {
   "cell_type": "code",
   "execution_count": 6,
   "metadata": {},
   "outputs": [
    {
     "data": {
      "text/plain": [
       "1"
      ]
     },
     "execution_count": 6,
     "metadata": {},
     "output_type": "execute_result"
    }
   ],
   "source": [
    "random.randint(1,10)"
   ]
  },
  {
   "cell_type": "code",
   "execution_count": 10,
   "metadata": {},
   "outputs": [
    {
     "name": "stdout",
     "output_type": "stream",
     "text": [
      "Guess the right number to win the jackpot: 75\n",
      "Guess lower\n",
      "Guess the right number to win the jackpot: 50\n",
      "Guess lower\n",
      "Guess the right number to win the jackpot: 35\n",
      "Guess higher\n",
      "Guess the right number to win the jackpot: 40\n",
      "Guess higher\n",
      "Guess the right number to win the jackpot: 46\n",
      "Guess lower\n",
      "Guess the right number to win the jackpot: 45\n",
      "Guess lower\n",
      "Guess the right number to win the jackpot: 43\n",
      "Guess higher\n",
      "Guess the right number to win the jackpot: 44\n",
      "You won!\n",
      "You took 8 attemps\n"
     ]
    }
   ],
   "source": [
    "Jackpot= random.randint(1,100)\n",
    "\n",
    "Guess= int(input(\"Guess the right number to win the jackpot: \"))\n",
    "Counter=1\n",
    "\n",
    "while Guess != Jackpot:\n",
    "    if Guess< Jackpot:\n",
    "        print(\"Guess higher\")\n",
    "    else:\n",
    "        print(\"Guess lower\")\n",
    "    \n",
    "    Guess= int(input(\"Guess the right number to win the jackpot: \"))\n",
    "    Counter+=1\n",
    "\n",
    "print(\"You won!\")\n",
    "print(\"You took\", Counter, \"attemps\")"
   ]
  },
  {
   "cell_type": "code",
   "execution_count": null,
   "metadata": {},
   "outputs": [],
   "source": []
  }
 ],
 "metadata": {
  "kernelspec": {
   "display_name": "Python 3",
   "language": "python",
   "name": "python3"
  },
  "language_info": {
   "codemirror_mode": {
    "name": "ipython",
    "version": 3
   },
   "file_extension": ".py",
   "mimetype": "text/x-python",
   "name": "python",
   "nbconvert_exporter": "python",
   "pygments_lexer": "ipython3",
   "version": "3.9.1"
  }
 },
 "nbformat": 4,
 "nbformat_minor": 4
}
