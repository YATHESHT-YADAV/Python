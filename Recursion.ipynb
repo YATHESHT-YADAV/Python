{
 "cells": [
  {
   "cell_type": "markdown",
   "metadata": {},
   "source": [
    "### Recursion Theory"
   ]
  },
  {
   "cell_type": "markdown",
   "metadata": {},
   "source": [
    "#### 1. Divide a big problem inot smaller problems.\n",
    "####  2. Find a base condition with a simple answer.\n",
    "####  3. Return base condition answer to solve all the sub problems.\n",
    "#### Avoid infinte loops, there should be an exit condition (ideally the base condiotion)\n",
    "#### base condition in factorial - 1! and 0! =1 so reurn 1 if n = 1 or n = 0\n",
    "#### base condition in ffibonacci - at the 0th pos. and 1st pos. the fibonacci numbers are 0 and 1 respectively so if n=0 or n=1 return n.\n",
    "#### base condition in sum - sum of numbers upto 1 is 1 so return 1 when n=1."
   ]
  },
  {
   "cell_type": "markdown",
   "metadata": {},
   "source": [
    "### Factorial using Recursion"
   ]
  },
  {
   "cell_type": "code",
   "execution_count": 2,
   "metadata": {},
   "outputs": [
    {
     "name": "stdout",
     "output_type": "stream",
     "text": [
      "120\n"
     ]
    }
   ],
   "source": [
    "def fac(n):\n",
    "    if n == 0 or n == 1:\n",
    "        return 1\n",
    "    return n*fac(n-1)\n",
    " \n",
    "print(fac(5))"
   ]
  },
  {
   "cell_type": "markdown",
   "metadata": {},
   "source": [
    "### Fibonacci Number at the nth location"
   ]
  },
  {
   "cell_type": "code",
   "execution_count": 4,
   "metadata": {},
   "outputs": [
    {
     "name": "stdout",
     "output_type": "stream",
     "text": [
      "3\n"
     ]
    }
   ],
   "source": [
    "def fib(n):\n",
    "    if n == 0 or n == 1:\n",
    "        return n\n",
    "    return fib(n-1) + fib (n-2)\n",
    "\n",
    "print(fib(4))"
   ]
  },
  {
   "cell_type": "markdown",
   "metadata": {},
   "source": [
    "###  Sum of numbers from 1 to n eg : 1+2+3+4+5"
   ]
  },
  {
   "cell_type": "code",
   "execution_count": 6,
   "metadata": {},
   "outputs": [
    {
     "name": "stdout",
     "output_type": "stream",
     "text": [
      "21\n"
     ]
    }
   ],
   "source": [
    "def sn(n):\n",
    "    if n == 1 :\n",
    "        return 1\n",
    "    return n + sn(n-1)\n",
    "\n",
    "print(sn(6))"
   ]
  },
  {
   "cell_type": "code",
   "execution_count": null,
   "metadata": {},
   "outputs": [],
   "source": []
  }
 ],
 "metadata": {
  "kernelspec": {
   "display_name": "Python 3",
   "language": "python",
   "name": "python3"
  },
  "language_info": {
   "codemirror_mode": {
    "name": "ipython",
    "version": 3
   },
   "file_extension": ".py",
   "mimetype": "text/x-python",
   "name": "python",
   "nbconvert_exporter": "python",
   "pygments_lexer": "ipython3",
   "version": "3.9.1"
  }
 },
 "nbformat": 4,
 "nbformat_minor": 4
}
